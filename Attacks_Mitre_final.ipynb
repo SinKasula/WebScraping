{
 "cells": [
  {
   "cell_type": "code",
   "execution_count": 77,
   "metadata": {},
   "outputs": [],
   "source": [
    "import requests\n",
    "from bs4 import BeautifulSoup as soup\n",
    "main_url = \"https://attack.mitre.org/techniques/enterprise/\"\n",
    "page = requests.get(main_url)\n",
    "page_soup = soup(page.content)\n",
    "#print(page_soup.prettify())\n",
    "page_body =page_soup.body\n",
    "table_elements = (page_body.find(\"tbody\", {'class':\"bg-white\"})).find_all(\"tr\")\n",
    "len((page_body.find(\"tbody\", {'class':\"bg-white\"})).find_all(\"tr\"))\n",
    "article_id_list = [] \n",
    "article_name_list = []\n",
    "for i in range(0,len(table_elements)):\n",
    "    article_id_list.append(table_elements[i].td.a.text)\n",
    "    article_name_list.append(table_elements[i].findAll(\"td\")[1].text)\n"
   ]
  },
  {
   "cell_type": "code",
   "execution_count": 66,
   "metadata": {},
   "outputs": [],
   "source": [
    "article_id_list = ['T1141']\n"
   ]
  },
  {
   "cell_type": "code",
   "execution_count": 67,
   "metadata": {},
   "outputs": [],
   "source": [
    "article_name_list = ['xyz']"
   ]
  },
  {
   "cell_type": "code",
   "execution_count": 80,
   "metadata": {},
   "outputs": [],
   "source": [
    "with open(\"Mitretechniques.txt\", \"w\") as f:\n",
    "    for i in range(len(article_id_list)):\n",
    "        f.write(article_id_list[i]+\"-\"+article_name_list[i]+\"\\n\")\n",
    "        sub_url = \"https://attack.mitre.org/techniques/\"+article_id_list[i]\n",
    "        sub_page = requests.get(sub_url)\n",
    "        subpage_soup = soup(sub_page.content)\n",
    "        subpage_soup = subpage_soup\n",
    "        try:\n",
    "            rows_data =subpage_soup.find_all(\"tr\")\n",
    "            #print(rows_data)\n",
    "            len_rows = len(subpage_soup.find_all(\"tr\"))\n",
    "            #print(len_rows)\n",
    "            for j in range(len_rows):\n",
    "                try:\n",
    "                    f.write(rows_data[j].td.text+\" - \"+rows_data[j].findAll(\"td\")[1].text.split(\".\")[0].strip()+\";\"+\"\\n\")  \n",
    "                    #f.write(rows_data[j].td.text+\" - \"+rows_data[j].findAll(\"td\")[1].text+\";\"+\"\\n\")\n",
    "                    #print((rows_data[j].td.text+\" - \"+rows_data[j].findAll(\"td\")[1].text+\";\"+\"\\n\"))\n",
    "                except:\n",
    "                    continue\n",
    "            f.write(\"\\n\")     \n",
    "        except:\n",
    "            pass"
   ]
  },
  {
   "cell_type": "code",
   "execution_count": null,
   "metadata": {},
   "outputs": [],
   "source": []
  }
 ],
 "metadata": {
  "kernelspec": {
   "display_name": "Python 3",
   "language": "python",
   "name": "python3"
  },
  "language_info": {
   "codemirror_mode": {
    "name": "ipython",
    "version": 3
   },
   "file_extension": ".py",
   "mimetype": "text/x-python",
   "name": "python",
   "nbconvert_exporter": "python",
   "pygments_lexer": "ipython3",
   "version": "3.6.2"
  }
 },
 "nbformat": 4,
 "nbformat_minor": 2
}
